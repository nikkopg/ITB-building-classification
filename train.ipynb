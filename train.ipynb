{
 "cells": [
  {
   "cell_type": "markdown",
   "metadata": {},
   "source": [
    "# VGG16 pretrained model to classify Institut Teknologi Bandung's buildings."
   ]
  },
  {
   "cell_type": "markdown",
   "metadata": {},
   "source": [
    "## Import prerequisites"
   ]
  },
  {
   "cell_type": "code",
   "execution_count": 1,
   "metadata": {},
   "outputs": [],
   "source": [
    "from PIL import Image\n",
    "from matplotlib import image\n",
    "from numpy import asarray\n",
    "import matplotlib.pyplot as plt\n",
    "import PIL\n",
    "from os import listdir\n",
    "from tqdm.notebook import tqdm\n",
    "import numpy as np\n",
    "from random import shuffle\n",
    "import cv2"
   ]
  },
  {
   "cell_type": "code",
   "execution_count": 12,
   "metadata": {},
   "outputs": [],
   "source": [
    "from tensorflow.keras.applications import vgg16\n",
    "from tensorflow.keras.models import Sequential\n",
    "from tensorflow.keras.layers import Conv2D, MaxPooling2D, Flatten, Dense, Dropout\n",
    "from tensorflow.keras import optimizers\n",
    "import tensorflow_addons as tfa\n",
    "from tensorflow import argmax\n",
    "from sklearn.metrics import confusion_matrix, classification_report\n",
    "from tensorflow import concat"
   ]
  },
  {
   "cell_type": "markdown",
   "metadata": {},
   "source": [
    "## Define datasets directory"
   ]
  },
  {
   "cell_type": "code",
   "execution_count": 3,
   "metadata": {},
   "outputs": [],
   "source": [
    "img_size = 100\n",
    "train_dir = r'D:/Nikko/COLLEGE THINGS/Institut Teknologi Bandung (2019 - 2021)/Lectures/Semester 1/Komputasi Cerdas & Machine Learning/Tugas Besar/iCloud Photos/data_train/'\n",
    "val_dir = r'D:/Nikko/COLLEGE THINGS/Institut Teknologi Bandung (2019 - 2021)/Lectures/Semester 1/Komputasi Cerdas & Machine Learning/Tugas Besar/iCloud Photos/data_val/'\n",
    "test_dir = r'D:/Nikko/COLLEGE THINGS/Institut Teknologi Bandung (2019 - 2021)/Lectures/Semester 1/Komputasi Cerdas & Machine Learning/Tugas Besar/iCloud Photos/data_test/'"
   ]
  },
  {
   "cell_type": "markdown",
   "metadata": {},
   "source": [
    "## Define functions to load and process datasets"
   ]
  },
  {
   "cell_type": "code",
   "execution_count": 4,
   "metadata": {},
   "outputs": [],
   "source": [
    "def label_img(img):\n",
    "    word_label = img.split('-')[0]\n",
    "    if word_label == 'Aula_Barat': return [1,0,0,0,0,0]\n",
    "    elif word_label == 'Aula_Timur': return [0,1,0,0,0,0]\n",
    "    elif word_label == 'CC_Barat': return [0,0,1,0,0,0]\n",
    "    elif word_label == 'CC_Timur': return [0,0,0,1,0,0]\n",
    "    elif word_label == 'Labtek_V': return [0,0,0,0,1,0]\n",
    "    elif word_label == 'Labtek_VI': return [0,0,0,0,0,1]\n",
    "\n",
    "def create_train_data():\n",
    "    training_data = list()\n",
    "    for img in tqdm(listdir(train_dir)):\n",
    "        labels = label_img(img)\n",
    "        image_data = Image.open(train_dir+img)\n",
    "        image_data = image_data.resize((img_size,img_size))\n",
    "        training_data.append([np.array(image_data)/255., np.array(labels)])\n",
    "    shuffle(training_data)\n",
    "    return training_data\n",
    "\n",
    "def create_val_data():\n",
    "    val_data = list()\n",
    "    for img in tqdm(listdir(val_dir)):\n",
    "        labels = label_img(img)\n",
    "        image_data = Image.open(val_dir+img)\n",
    "        image_data = image_data.resize((img_size,img_size))\n",
    "        val_data.append([np.array(image_data)/255., np.array(labels)])\n",
    "    shuffle(val_data)\n",
    "    return val_data\n",
    "\n",
    "def create_test_data():\n",
    "    testing_data = list()\n",
    "    for img in tqdm(listdir(test_dir)):\n",
    "        labels = label_img(img)\n",
    "        image_data = Image.open(test_dir+img)\n",
    "        image_data = image_data.resize((img_size,img_size))\n",
    "        testing_data.append([np.array(image_data)/255., np.array(labels)])\n",
    "    shuffle(testing_data)\n",
    "    return testing_data"
   ]
  },
  {
   "cell_type": "code",
   "execution_count": 5,
   "metadata": {},
   "outputs": [
    {
     "name": "stdout",
     "output_type": "stream",
     "text": [
      "Creating Training Data...\n"
     ]
    },
    {
     "data": {
      "application/vnd.jupyter.widget-view+json": {
       "model_id": "ef25e9b970be40cba742d31d16c10811",
       "version_major": 2,
       "version_minor": 0
      },
      "text/plain": [
       "  0%|          | 0/420 [00:00<?, ?it/s]"
      ]
     },
     "metadata": {},
     "output_type": "display_data"
    },
    {
     "name": "stdout",
     "output_type": "stream",
     "text": [
      "Creating Val Data...\n"
     ]
    },
    {
     "data": {
      "application/vnd.jupyter.widget-view+json": {
       "model_id": "59b85ac7164749b6a39ac268f624f1ee",
       "version_major": 2,
       "version_minor": 0
      },
      "text/plain": [
       "  0%|          | 0/108 [00:00<?, ?it/s]"
      ]
     },
     "metadata": {},
     "output_type": "display_data"
    },
    {
     "name": "stdout",
     "output_type": "stream",
     "text": [
      "Creating Testing Data...\n"
     ]
    },
    {
     "data": {
      "application/vnd.jupyter.widget-view+json": {
       "model_id": "440459bc1b994757b1a9632c9e5461aa",
       "version_major": 2,
       "version_minor": 0
      },
      "text/plain": [
       "  0%|          | 0/58 [00:00<?, ?it/s]"
      ]
     },
     "metadata": {},
     "output_type": "display_data"
    }
   ],
   "source": [
    "print('Creating Training Data...')\n",
    "training_data = create_train_data()\n",
    "print('Creating Val Data...')\n",
    "val_data = create_val_data()\n",
    "print('Creating Testing Data...')\n",
    "testing_data = create_test_data()"
   ]
  },
  {
   "cell_type": "code",
   "execution_count": 6,
   "metadata": {},
   "outputs": [],
   "source": [
    "x_train = np.array([i[0] for i in training_data]).reshape(-1, img_size, img_size, 3)\n",
    "y_train = np.array([i[1] for i in training_data])\n",
    "\n",
    "x_val = np.array([i[0] for i in val_data]).reshape(-1, img_size, img_size, 3)\n",
    "y_val = np.array([i[1] for i in val_data])\n",
    "\n",
    "x_test = np.array([i[0] for i in testing_data]).reshape(-1, img_size, img_size, 3)\n",
    "y_test = np.array([i[1] for i in testing_data])"
   ]
  },
  {
   "cell_type": "markdown",
   "metadata": {},
   "source": [
    "## Import pretrained vgg16 and fine tuning"
   ]
  },
  {
   "cell_type": "code",
   "execution_count": 7,
   "metadata": {},
   "outputs": [],
   "source": [
    "vgg_conv = vgg16.VGG16(weights='imagenet',\n",
    "                      include_top=False,\n",
    "                      input_shape=(img_size,img_size,3))"
   ]
  },
  {
   "cell_type": "markdown",
   "metadata": {},
   "source": [
    "The model imported here is only the Convolutional parts to extract features. We define a new Dense/Neural Network part for our specific case."
   ]
  },
  {
   "cell_type": "code",
   "execution_count": 8,
   "metadata": {},
   "outputs": [
    {
     "name": "stdout",
     "output_type": "stream",
     "text": [
      "Model: \"sequential\"\n",
      "_________________________________________________________________\n",
      "Layer (type)                 Output Shape              Param #   \n",
      "=================================================================\n",
      "vgg16 (Functional)           (None, 3, 3, 512)         14714688  \n",
      "_________________________________________________________________\n",
      "flatten (Flatten)            (None, 4608)              0         \n",
      "_________________________________________________________________\n",
      "dense (Dense)                (None, 1024)              4719616   \n",
      "_________________________________________________________________\n",
      "dropout (Dropout)            (None, 1024)              0         \n",
      "_________________________________________________________________\n",
      "dense_1 (Dense)              (None, 6)                 6150      \n",
      "=================================================================\n",
      "Total params: 19,440,454\n",
      "Trainable params: 19,440,454\n",
      "Non-trainable params: 0\n",
      "_________________________________________________________________\n"
     ]
    }
   ],
   "source": [
    "model = Sequential()\n",
    "\n",
    "model.add(vgg_conv)\n",
    "\n",
    "model.add(Flatten())\n",
    "model.add(Dense(1024, activation='relu'))\n",
    "model.add(Dropout(0.5))\n",
    "model.add(Dense(6, activation='softmax'))\n",
    "\n",
    "model.summary()"
   ]
  },
  {
   "cell_type": "code",
   "execution_count": 9,
   "metadata": {},
   "outputs": [
    {
     "data": {
      "application/vnd.jupyter.widget-view+json": {
       "model_id": "c8278da4f536479c82775121f38692bd",
       "version_major": 2,
       "version_minor": 0
      },
      "text/plain": [
       "Training:   0%|                                                                                0/20 ETA: ?s,  …"
      ]
     },
     "metadata": {},
     "output_type": "display_data"
    },
    {
     "name": "stdout",
     "output_type": "stream",
     "text": [
      "Epoch 1/20\n"
     ]
    },
    {
     "data": {
      "application/vnd.jupyter.widget-view+json": {
       "model_id": "c9ba7b6936ca4501a94ecb2e00484116",
       "version_major": 2,
       "version_minor": 0
      },
      "text/plain": [
       "0/14                                                                                                         E…"
      ]
     },
     "metadata": {},
     "output_type": "display_data"
    },
    {
     "name": "stdout",
     "output_type": "stream",
     "text": [
      "Epoch 2/20\n"
     ]
    },
    {
     "data": {
      "application/vnd.jupyter.widget-view+json": {
       "model_id": "1b575fdca2ff456486de968d4e87a427",
       "version_major": 2,
       "version_minor": 0
      },
      "text/plain": [
       "0/14                                                                                                         E…"
      ]
     },
     "metadata": {},
     "output_type": "display_data"
    },
    {
     "name": "stdout",
     "output_type": "stream",
     "text": [
      "Epoch 3/20\n"
     ]
    },
    {
     "data": {
      "application/vnd.jupyter.widget-view+json": {
       "model_id": "3edfb5854f9b4ec38573476f89264dd2",
       "version_major": 2,
       "version_minor": 0
      },
      "text/plain": [
       "0/14                                                                                                         E…"
      ]
     },
     "metadata": {},
     "output_type": "display_data"
    },
    {
     "name": "stdout",
     "output_type": "stream",
     "text": [
      "Epoch 4/20\n"
     ]
    },
    {
     "data": {
      "application/vnd.jupyter.widget-view+json": {
       "model_id": "f688825fcbe8412d817073053c86348e",
       "version_major": 2,
       "version_minor": 0
      },
      "text/plain": [
       "0/14                                                                                                         E…"
      ]
     },
     "metadata": {},
     "output_type": "display_data"
    },
    {
     "name": "stdout",
     "output_type": "stream",
     "text": [
      "Epoch 5/20\n"
     ]
    },
    {
     "data": {
      "application/vnd.jupyter.widget-view+json": {
       "model_id": "9b5a04bcca184d1187fa277471c0dee4",
       "version_major": 2,
       "version_minor": 0
      },
      "text/plain": [
       "0/14                                                                                                         E…"
      ]
     },
     "metadata": {},
     "output_type": "display_data"
    },
    {
     "name": "stdout",
     "output_type": "stream",
     "text": [
      "Epoch 6/20\n"
     ]
    },
    {
     "data": {
      "application/vnd.jupyter.widget-view+json": {
       "model_id": "5e3c9615f1e349e896535422d58e07f9",
       "version_major": 2,
       "version_minor": 0
      },
      "text/plain": [
       "0/14                                                                                                         E…"
      ]
     },
     "metadata": {},
     "output_type": "display_data"
    },
    {
     "name": "stdout",
     "output_type": "stream",
     "text": [
      "Epoch 7/20\n"
     ]
    },
    {
     "data": {
      "application/vnd.jupyter.widget-view+json": {
       "model_id": "98535980a8a5445fbde9dd2c2b96d372",
       "version_major": 2,
       "version_minor": 0
      },
      "text/plain": [
       "0/14                                                                                                         E…"
      ]
     },
     "metadata": {},
     "output_type": "display_data"
    },
    {
     "name": "stdout",
     "output_type": "stream",
     "text": [
      "Epoch 8/20\n"
     ]
    },
    {
     "data": {
      "application/vnd.jupyter.widget-view+json": {
       "model_id": "b4a8273f0be04ed0bb227aa62e17cbf1",
       "version_major": 2,
       "version_minor": 0
      },
      "text/plain": [
       "0/14                                                                                                         E…"
      ]
     },
     "metadata": {},
     "output_type": "display_data"
    },
    {
     "name": "stdout",
     "output_type": "stream",
     "text": [
      "Epoch 9/20\n"
     ]
    },
    {
     "data": {
      "application/vnd.jupyter.widget-view+json": {
       "model_id": "12de4b3104a642889bfc96f1ad1b69d2",
       "version_major": 2,
       "version_minor": 0
      },
      "text/plain": [
       "0/14                                                                                                         E…"
      ]
     },
     "metadata": {},
     "output_type": "display_data"
    },
    {
     "name": "stdout",
     "output_type": "stream",
     "text": [
      "Epoch 10/20\n"
     ]
    },
    {
     "data": {
      "application/vnd.jupyter.widget-view+json": {
       "model_id": "ed1d0541de564e8f98e4581d18b63f35",
       "version_major": 2,
       "version_minor": 0
      },
      "text/plain": [
       "0/14                                                                                                         E…"
      ]
     },
     "metadata": {},
     "output_type": "display_data"
    },
    {
     "name": "stdout",
     "output_type": "stream",
     "text": [
      "Epoch 11/20\n"
     ]
    },
    {
     "data": {
      "application/vnd.jupyter.widget-view+json": {
       "model_id": "fb22710182924beabd7b7387e70725ac",
       "version_major": 2,
       "version_minor": 0
      },
      "text/plain": [
       "0/14                                                                                                         E…"
      ]
     },
     "metadata": {},
     "output_type": "display_data"
    },
    {
     "name": "stdout",
     "output_type": "stream",
     "text": [
      "Epoch 12/20\n"
     ]
    },
    {
     "data": {
      "application/vnd.jupyter.widget-view+json": {
       "model_id": "2102983b046e4e988dfce3be30d88bf9",
       "version_major": 2,
       "version_minor": 0
      },
      "text/plain": [
       "0/14                                                                                                         E…"
      ]
     },
     "metadata": {},
     "output_type": "display_data"
    },
    {
     "name": "stdout",
     "output_type": "stream",
     "text": [
      "Epoch 13/20\n"
     ]
    },
    {
     "data": {
      "application/vnd.jupyter.widget-view+json": {
       "model_id": "2d39fe5d3c344cfea7e6e45d7ff5fe48",
       "version_major": 2,
       "version_minor": 0
      },
      "text/plain": [
       "0/14                                                                                                         E…"
      ]
     },
     "metadata": {},
     "output_type": "display_data"
    },
    {
     "name": "stdout",
     "output_type": "stream",
     "text": [
      "Epoch 14/20\n"
     ]
    },
    {
     "data": {
      "application/vnd.jupyter.widget-view+json": {
       "model_id": "5aa3a8c81dc84ead90f71ce45e5bc476",
       "version_major": 2,
       "version_minor": 0
      },
      "text/plain": [
       "0/14                                                                                                         E…"
      ]
     },
     "metadata": {},
     "output_type": "display_data"
    },
    {
     "name": "stdout",
     "output_type": "stream",
     "text": [
      "Epoch 15/20\n"
     ]
    },
    {
     "data": {
      "application/vnd.jupyter.widget-view+json": {
       "model_id": "fbf20d8fe5624fb3a63646fcb2100323",
       "version_major": 2,
       "version_minor": 0
      },
      "text/plain": [
       "0/14                                                                                                         E…"
      ]
     },
     "metadata": {},
     "output_type": "display_data"
    },
    {
     "name": "stdout",
     "output_type": "stream",
     "text": [
      "Epoch 16/20\n"
     ]
    },
    {
     "data": {
      "application/vnd.jupyter.widget-view+json": {
       "model_id": "43d644af35d74cc7b6e345641ad8846e",
       "version_major": 2,
       "version_minor": 0
      },
      "text/plain": [
       "0/14                                                                                                         E…"
      ]
     },
     "metadata": {},
     "output_type": "display_data"
    },
    {
     "name": "stdout",
     "output_type": "stream",
     "text": [
      "Epoch 17/20\n"
     ]
    },
    {
     "data": {
      "application/vnd.jupyter.widget-view+json": {
       "model_id": "afe618d1782a4724970a6434d8bbc680",
       "version_major": 2,
       "version_minor": 0
      },
      "text/plain": [
       "0/14                                                                                                         E…"
      ]
     },
     "metadata": {},
     "output_type": "display_data"
    },
    {
     "name": "stdout",
     "output_type": "stream",
     "text": [
      "Epoch 18/20\n"
     ]
    },
    {
     "data": {
      "application/vnd.jupyter.widget-view+json": {
       "model_id": "51d106745370425aa5d86ff43a7cc7d9",
       "version_major": 2,
       "version_minor": 0
      },
      "text/plain": [
       "0/14                                                                                                         E…"
      ]
     },
     "metadata": {},
     "output_type": "display_data"
    },
    {
     "name": "stdout",
     "output_type": "stream",
     "text": [
      "Epoch 19/20\n"
     ]
    },
    {
     "data": {
      "application/vnd.jupyter.widget-view+json": {
       "model_id": "3451ff67424147778cc6e6600af50b6f",
       "version_major": 2,
       "version_minor": 0
      },
      "text/plain": [
       "0/14                                                                                                         E…"
      ]
     },
     "metadata": {},
     "output_type": "display_data"
    },
    {
     "name": "stdout",
     "output_type": "stream",
     "text": [
      "Epoch 20/20\n"
     ]
    },
    {
     "data": {
      "application/vnd.jupyter.widget-view+json": {
       "model_id": "d26a0fb769d74d3d8fd2a91970cb3adf",
       "version_major": 2,
       "version_minor": 0
      },
      "text/plain": [
       "0/14                                                                                                         E…"
      ]
     },
     "metadata": {},
     "output_type": "display_data"
    }
   ],
   "source": [
    "cb = tfa.callbacks.TQDMProgressBar()\n",
    "\n",
    "model.compile(loss='categorical_crossentropy',\n",
    "             optimizer=optimizers.RMSprop(lr=1e-4),\n",
    "             metrics=['accuracy'])\n",
    "\n",
    "hist = model.fit(x_train, y_train,\n",
    "                epochs=20,\n",
    "                validation_data=(x_test,y_test),\n",
    "                batch_size=32,                 \n",
    "                verbose=0,\n",
    "                callbacks=[cb])"
   ]
  },
  {
   "cell_type": "code",
   "execution_count": 10,
   "metadata": {},
   "outputs": [],
   "source": [
    "model.save('itbbuildingclassification.h5')"
   ]
  },
  {
   "cell_type": "markdown",
   "metadata": {},
   "source": [
    "## Visualize accuracy and loss during training"
   ]
  },
  {
   "cell_type": "code",
   "execution_count": 11,
   "metadata": {},
   "outputs": [
    {
     "data": {
      "image/png": "[encoded data removed]",
      "text/plain": [
       "<Figure size 432x288 with 1 Axes>"
      ]
     },
     "metadata": {
      "needs_background": "light"
     },
     "output_type": "display_data"
    },
    {
     "data": {
      "image/png": "[encoded data removed]",
      "text/plain": [
       "<Figure size 432x288 with 1 Axes>"
      ]
     },
     "metadata": {
      "needs_background": "light"
     },
     "output_type": "display_data"
    }
   ],
   "source": [
    "plt.plot(hist.history['accuracy'])\n",
    "plt.plot(hist.history['val_accuracy'])\n",
    "plt.title('model accuracy')\n",
    "plt.ylabel('accuracy')\n",
    "plt.xlabel('epoch')\n",
    "plt.legend(['train', 'val'])\n",
    "plt.show()\n",
    "# summarize history for loss\n",
    "plt.plot(hist.history['loss'])\n",
    "plt.plot(hist.history['val_loss'])\n",
    "plt.title('model loss')\n",
    "plt.ylabel('loss')\n",
    "plt.xlabel('epoch')\n",
    "plt.legend(['train', 'val'])\n",
    "plt.show()"
   ]
  },
  {
   "cell_type": "markdown",
   "metadata": {},
   "source": [
    "## Reports"
   ]
  },
  {
   "cell_type": "code",
   "execution_count": 13,
   "metadata": {},
   "outputs": [
    {
     "name": "stdout",
     "output_type": "stream",
     "text": [
      "              precision    recall  f1-score   support\n",
      "\n",
      "           0       0.78      0.88      0.82        16\n",
      "           1       0.94      0.65      0.77        26\n",
      "           2       0.89      0.94      0.91        17\n",
      "           3       0.83      0.94      0.88        16\n",
      "           4       0.89      0.89      0.89        18\n",
      "           5       0.83      1.00      0.91        15\n",
      "\n",
      "    accuracy                           0.86       108\n",
      "   macro avg       0.86      0.88      0.87       108\n",
      "weighted avg       0.87      0.86      0.86       108\n",
      "\n",
      "[[14  1  1  0  0  0]\n",
      " [ 4 17  0  2  2  1]\n",
      " [ 0  0 16  1  0  0]\n",
      " [ 0  0  1 15  0  0]\n",
      " [ 0  0  0  0 16  2]\n",
      " [ 0  0  0  0  0 15]]\n"
     ]
    }
   ],
   "source": [
    "y_pred = model.predict(x_val)\n",
    "y_pred = argmax(y_pred, axis=1)\n",
    "y_true = concat([argmax(y) for x, y in val_data], axis=0)\n",
    "\n",
    "print(classification_report(y_pred, y_true))\n",
    "print(confusion_matrix(y_pred, y_true))"
   ]
  }
 ],
 "metadata": {
  "kernelspec": {
   "display_name": "Python 3",
   "language": "python",
   "name": "python3"
  },
  "language_info": {
   "codemirror_mode": {
    "name": "ipython",
    "version": 3
   },
   "file_extension": ".py",
   "mimetype": "text/x-python",
   "name": "python",
   "nbconvert_exporter": "python",
   "pygments_lexer": "ipython3",
   "version": "3.7.3"
  }
 },
 "nbformat": 4,
 "nbformat_minor": 2
}
